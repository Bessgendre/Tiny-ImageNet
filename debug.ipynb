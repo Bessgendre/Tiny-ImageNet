{
 "cells": [
  {
   "cell_type": "code",
   "execution_count": 1,
   "metadata": {},
   "outputs": [],
   "source": [
    "# this is a reviewing notebook for the newly trained model called \"model_45.pth\"\n",
    "\n",
    "# import necessary packages\n",
    "import torch\n",
    "import torch.nn as nn\n",
    "import torch.nn.functional as F\n",
    "import torch.optim as optim\n",
    "import torchvision\n",
    "import torchvision.transforms as transforms"
   ]
  },
  {
   "cell_type": "code",
   "execution_count": 12,
   "metadata": {},
   "outputs": [],
   "source": [
    "import matplotlib.pyplot as plt\n",
    "import numpy as np\n",
    "import os\n",
    "import sys\n",
    "import time\n",
    "\n",
    "from dataset import TinyImageNet"
   ]
  },
  {
   "cell_type": "code",
   "execution_count": 58,
   "metadata": {},
   "outputs": [],
   "source": [
    "import torchvision.models as models"
   ]
  },
  {
   "cell_type": "code",
   "execution_count": 67,
   "metadata": {},
   "outputs": [],
   "source": [
    "# import cudnn\n",
    "import torch.backends.cudnn as cudnn"
   ]
  },
  {
   "cell_type": "code",
   "execution_count": 143,
   "metadata": {},
   "outputs": [
    {
     "data": {
      "text/plain": [
       "<All keys matched successfully>"
      ]
     },
     "execution_count": 143,
     "metadata": {},
     "output_type": "execute_result"
    }
   ],
   "source": [
    "# import the pth data, which was trained on 4 GPUs. make it run on CPU\n",
    "device = torch.device(\"cpu\")\n",
    "save_path = \"./model_45.pth\"\n",
    "\n",
    "net = models.resnet18(pretrained = False, num_classes = 200)\n",
    "\n",
    "cudnn.benchmark = True\n",
    "\n",
    "# load the model trained on 4 GPUs\n",
    "net.load_state_dict({k.replace('module.',''):v for k,v in torch.load(save_path, map_location = device).items()})"
   ]
  },
  {
   "cell_type": "code",
   "execution_count": 136,
   "metadata": {},
   "outputs": [],
   "source": [
    "# load the test dataset\n",
    "testset = TinyImageNet(root='/Users/royalty/Desktop/Python_ML/Python-DL/second_assignment/tiny-imagenet-200', train=False, transform=transforms.ToTensor())\n",
    "\n",
    "# load the test dataset into a dataloader\n",
    "testloader = torch.utils.data.DataLoader(testset, batch_size=1, num_workers=2)"
   ]
  },
  {
   "cell_type": "code",
   "execution_count": 149,
   "metadata": {},
   "outputs": [],
   "source": [
    "# import the classes of tiny-imagenet-200\n",
    "# classes = []\n",
    "# with open(\"/Users/royalty/Desktop/Python_ML/Python-DL/second_assignment/tiny-imagenet-200/wnids.txt\", \"r\") as f:\n",
    "#     for line in f:\n",
    "#         classes.append(line.strip(\"\\n\"))"
   ]
  },
  {
   "cell_type": "code",
   "execution_count": 151,
   "metadata": {},
   "outputs": [],
   "source": [
    "# import the class names\n",
    "classes = []\n",
    "with open('/Users/royalty/Desktop/Python_ML/Python-DL/second_assignment/tiny-imagenet-200/words.txt', 'r') as f:\n",
    "    for line in f:\n",
    "        classes.append(line.strip().split('\\t')[1])\n",
    "        \n",
    "# define a function to show the image\n",
    "def imshow(img):\n",
    "    img = img / 2 + 0.5     # unnormalize\n",
    "    npimg = img.numpy()     # convert the image to numpy array\n",
    "    plt.imshow(np.transpose(npimg, (1, 2, 0))) # transpose the image to the right format\n",
    "    plt.show()\n",
    "    \n",
    "# define a function to show the prediction result\n",
    "def show_result(img, label, prediction):\n",
    "    img = img / 2 + 0.5     # unnormalize\n",
    "    npimg = img.numpy()     # convert the image to numpy array\n",
    "    plt.imshow(np.transpose(npimg, (1, 2, 0))) # transpose the image to the right format\n",
    "    plt.title('Label: ' + classes[label] + '   Prediction: ' + classes[prediction])\n",
    "    plt.show()"
   ]
  },
  {
   "cell_type": "code",
   "execution_count": 137,
   "metadata": {},
   "outputs": [
    {
     "data": {
      "text/plain": [
       "82115"
      ]
     },
     "execution_count": 137,
     "metadata": {},
     "output_type": "execute_result"
    }
   ],
   "source": [
    "len(classes)"
   ]
  },
  {
   "cell_type": "code",
   "execution_count": 138,
   "metadata": {},
   "outputs": [],
   "source": [
    "# import an image from the test dataset\n",
    "dataiter = iter(testloader)"
   ]
  },
  {
   "cell_type": "code",
   "execution_count": 162,
   "metadata": {},
   "outputs": [
    {
     "data": {
      "image/png": "[encoded data removed]",
      "text/plain": [
       "<Figure size 432x288 with 1 Axes>"
      ]
     },
     "metadata": {
      "needs_background": "light"
     },
     "output_type": "display_data"
    }
   ],
   "source": [
    "# show the image\n",
    "images, labels = dataiter.next()\n",
    "\n",
    "# show the prediction result\n",
    "show_result(torchvision.utils.make_grid(images), labels, net(images).argmax())\n"
   ]
  },
  {
   "cell_type": "code",
   "execution_count": 154,
   "metadata": {},
   "outputs": [
    {
     "name": "stdout",
     "output_type": "stream",
     "text": [
      "tensor([135]) tensor(80)\n"
     ]
    }
   ],
   "source": [
    "print(labels,net(images).argmax())"
   ]
  },
  {
   "cell_type": "code",
   "execution_count": 141,
   "metadata": {},
   "outputs": [
    {
     "name": "stdout",
     "output_type": "stream",
     "text": [
      "tensor([107])\n"
     ]
    }
   ],
   "source": []
  }
 ],
 "metadata": {
  "kernelspec": {
   "display_name": "base",
   "language": "python",
   "name": "python3"
  },
  "language_info": {
   "codemirror_mode": {
    "name": "ipython",
    "version": 3
   },
   "file_extension": ".py",
   "mimetype": "text/x-python",
   "name": "python",
   "nbconvert_exporter": "python",
   "pygments_lexer": "ipython3",
   "version": "3.9.12"
  },
  "orig_nbformat": 4
 },
 "nbformat": 4,
 "nbformat_minor": 2
}

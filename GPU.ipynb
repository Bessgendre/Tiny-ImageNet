{
  "cells": [
    {
      "cell_type": "code",
      "execution_count": 10,
      "metadata": {
        "id": "1Ia3EY4RZrzg"
      },
      "outputs": [],
      "source": [
        "# try to use GPU to accelerate the training process\n",
        "import torch\n",
        "import torch.nn as nn\n",
        "from d2l import torch as d2l"
      ]
    },
    {
      "cell_type": "code",
      "execution_count": 14,
      "metadata": {},
      "outputs": [],
      "source": [
        "import torch.utils.data as Data\n",
        "\n",
        "batch_size = 256\n",
        "\n",
        "train_data, test_data = d2l.load_data_fashion_mnist(batch_size=256)\n",
        "\n",
        "train_dataloader = Data.DataLoader(train_data, batch_size=64)\n",
        "test_dataloader = Data.DataLoader(test_data, batch_size=64)"
      ]
    },
    {
      "cell_type": "code",
      "execution_count": 20,
      "metadata": {},
      "outputs": [],
      "source": [
        "myGPU = torch.device('cuda:0')\n",
        "\n",
        "net = nn.Sequential(nn.Flatten(), nn.Linear(784, 10))\n",
        "net = net.to(device = myGPU)"
      ]
    },
    {
      "cell_type": "code",
      "execution_count": 24,
      "metadata": {},
      "outputs": [],
      "source": [
        "train_iter, test_iter = d2l.load_data_fashion_mnist(batch_size=256)"
      ]
    },
    {
      "cell_type": "code",
      "execution_count": null,
      "metadata": {
        "colab": {
          "base_uri": "https://localhost:8080/",
          "height": 232
        },
        "id": "9T6XHrVUewvq",
        "outputId": "996b80fa-f557-4ca9-ffc9-b8848a1c0e2d"
      },
      "outputs": [],
      "source": [
        "batch_size = 256\n",
        "\n",
        "train_iter, test_iter = d2l.load_data_fashion_mnist(batch_size=256)\n",
        "\n",
        "net = nn.Sequential(nn.Flatten(), nn.Linear(784, 10))\n",
        "net = net.to(device = myGPU)\n",
        "\n",
        "def init_weights(m):\n",
        "    if type(m) == nn.Linear:\n",
        "        nn.init.normal_(m.weight, std=0.01)\n",
        "\n",
        "net.apply(init_weights)\n",
        "\n",
        "loss = nn.CrossEntropyLoss()\n",
        "optimiser = torch.optim.SGD(net.parameters(), lr=0.2)\n",
        "\n",
        "num_epochs = 500"
      ]
    },
    {
      "cell_type": "code",
      "execution_count": null,
      "metadata": {},
      "outputs": [],
      "source": [
        "# write a trainer function that can do the training process on GPU\n",
        "def train(net, train_iter, test_iter, loss, num_epochs, optimiser, device):\n",
        "    net = net.to(device)\n",
        "    print(\"training on \", device)\n",
        "    batch_count = 0\n",
        "    for epoch in range(num_epochs):\n",
        "        train_l_sum, train_acc_sum, n = 0.0, 0.0, 0\n",
        "        for X, y in train_iter:\n",
        "            X = X.to(device)\n",
        "            y = y.to(device)\n",
        "            y_hat = net(X)\n",
        "            l = loss(y_hat, y)\n",
        "            optimiser.zero_grad()\n",
        "            l.backward()\n",
        "            optimiser.step()\n",
        "            train_l_sum += l.cpu().item()\n",
        "            train_acc_sum += (y_hat.argmax(dim=1) == y).sum().cpu().item()\n",
        "            n += y.shape[0]\n",
        "            batch_count += 1\n",
        "            \n",
        "        \n",
        "        # print every 100 epoch\n",
        "        if (epoch + 1) % 100 == 0:\n",
        "            test_acc = d2l.evaluate_accuracy_gpu(net, test_iter)\n",
        "            print(\"epoch %d, loss %.4f, train acc %.3f, test acc %.3f\" % (epoch + 1, train_l_sum / batch_count, train_acc_sum / n, test_acc))"
      ]
    },
    {
      "cell_type": "code",
      "execution_count": null,
      "metadata": {},
      "outputs": [],
      "source": [
        "train(net, train_iter, test_iter, loss, num_epochs, optimiser, myGPU)"
      ]
    }
  ],
  "metadata": {
    "accelerator": "GPU",
    "colab": {
      "gpuType": "T4",
      "provenance": [],
      "toc_visible": true
    },
    "gpuClass": "standard",
    "kernelspec": {
      "display_name": "base",
      "language": "python",
      "name": "python3"
    },
    "language_info": {
      "codemirror_mode": {
        "name": "ipython",
        "version": 3
      },
      "file_extension": ".py",
      "mimetype": "text/x-python",
      "name": "python",
      "nbconvert_exporter": "python",
      "pygments_lexer": "ipython3",
      "version": "3.9.12"
    },
    "orig_nbformat": 4
  },
  "nbformat": 4,
  "nbformat_minor": 0
}
